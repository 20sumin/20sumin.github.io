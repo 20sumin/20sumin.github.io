{
 "cells": [
  {
   "cell_type": "markdown",
   "id": "43673cc9",
   "metadata": {},
   "source": [
    "### 2020136099 이수민 Homework#2\n",
    "***"
   ]
  },
  {
   "cell_type": "markdown",
   "id": "2fc78c55",
   "metadata": {},
   "source": [
    "#### [문제1] \n",
    "\n",
    "다음 6 개의 Expression에 대해 Evaluation 결과 값을 출력하고, 해당 결과가 나온 이유에 대해 설명하시오\n",
    "\n",
    "- 1 and 2 and 3 and 4\n",
    "- 1 or 2 or 3 or 4\n",
    "- 1 and 2 or 3 and 4\n",
    "- (1 and 2) or (3 and 4)\n",
    "- 1 or 2 and 3 or 4\n",
    "- (1 or 2) and (3 or 4)"
   ]
  },
  {
   "cell_type": "code",
   "execution_count": 1,
   "id": "17399692",
   "metadata": {
    "scrolled": true
   },
   "outputs": [
    {
     "name": "stdout",
     "output_type": "stream",
     "text": [
      "4\n",
      "1\n",
      "2\n",
      "2\n",
      "1\n",
      "3\n"
     ]
    }
   ],
   "source": [
    "print(1 and 2 and 3 and 4)\n",
    "print(1 or 2 or 3 or 4)\n",
    "print(1 and 2 or 3 and 4)\n",
    "print((1 and 2) or (3 and 4))\n",
    "print(1 or 2 and 3 or 4)\n",
    "print((1 or 2) and (3 or 4))"
   ]
  },
  {
   "cell_type": "markdown",
   "id": "eec18619",
   "metadata": {},
   "source": [
    "### [설명1] \n",
    "\n",
    "- 피연산자가 정수일 때, and 연산자는 오른쪽에 있는 값을 반환하고, or 연산자는 왼쪽에 있는 값을 반환한다.\n",
    "- and 연산자와 or 연산자가 함께 쓰일 경우, and 연산자가 or 연산자보다 우선순위가 높기 때문에 and 연산자 먼저 연산된다. \n",
    "\n",
    "  \n",
    "- 1 and 2 and 3 and 4   \n",
    "  : 가장 오른쪽에 있는 4가 반환된다.\n",
    "- 1 or 2 or 3 or 4   \n",
    "  : 가장 왼쪽에 있는 1이 반환된다.\n",
    "- 1 and 2 or 3 and 4   \n",
    "  : 1 and 2 , 3 and 4가 먼저 연산된 후에 2 or 4가 연산되어 2가 반환된다.\n",
    "- (1 and 2) or (3 and 4)   \n",
    "  : 괄호 내부가 먼저 연산된 후, 2 or 4가 연산되어 2가 반환된다.\n",
    "- 1 or 2 and 3 or 4   \n",
    "  : 2 and 3이 먼저 연산된 후, 1 or 3 or 4가 연산되어 1이 반환된다.\n",
    "- (1 or 2) and (3 or 4)   \n",
    "  : 괄호 내부가 먼저 연산된 후, 1 and 3이 연산되어 3이 반환된다.\n",
    "  \n",
    "***"
   ]
  },
  {
   "cell_type": "markdown",
   "id": "b00d42c9",
   "metadata": {},
   "source": [
    "#### [문제2] \n",
    "\n",
    "경로에 해당하는 문자열 1개를 입력 받아 그 안에 디렉토리 경로명과 파일명을 분리하여 리스트로 반환하는 함수 div_path(s)를 작성하시오.\n",
    "\n",
    "- 인자로 전달하는 문자열은 경로만 들어간다고 가정한다.\n",
    "- 각 디렉토리와 파일을 구분하는 문자는 '/'로 가정한다.\n",
    "- 반환하는 리스트의 첫번째 원소는 디렉토리이고 두번째 원소는 파일명이다.\n",
    "- 다음과 같은 실행 및 출력 결과가 도출되어야 한다\n",
    "    - div_path('/usr/local/bin/python')\n",
    "        - ['/usr/local/bin', 'python']\n",
    "    - div_path('/home/chulsoo/test.txt')\n",
    "        - ['/home/chulsoo', 'test.txt']      \n",
    "- [참고] 리스트(l) 내에 새로운 정수값 (예를 들어 10)을 넣는 방법은 l.append(10) 이다.\n"
   ]
  },
  {
   "cell_type": "code",
   "execution_count": 2,
   "id": "5342a238",
   "metadata": {},
   "outputs": [
    {
     "name": "stdout",
     "output_type": "stream",
     "text": [
      "['/usr/local/bin', 'python']\n"
     ]
    }
   ],
   "source": [
    "def div_path(s):\n",
    "    l = []\n",
    "    for i in range((len(s)-1), -1, -1):\n",
    "        if s[i] == '/':\n",
    "            l = [s[:i], s[i+1:]]\n",
    "            break\n",
    "    return l\n",
    "    \n",
    "print(div_path('/usr/local/bin/python'))"
   ]
  },
  {
   "cell_type": "markdown",
   "id": "e2c63465",
   "metadata": {},
   "source": [
    "#### [설명2] \n",
    " \n",
    "- 파일명은 '/'로 구분한 문자열 중 가장 오른쪽에 있는 문자열이다.\n",
    "- 반복문을 i가 리스트 l의 마지막 요소부터 처음 요소로 반복하도록 하여 가장 처음 '/'를 발견한 인덱스를 기준으로 슬라이싱 하여 리스트 l 에 대입한 후 반복문을 빠져나왔다. 그리고 리스트 l을 반환한다.\n",
    "\n",
    "***"
   ]
  },
  {
   "cell_type": "markdown",
   "id": "cef95277",
   "metadata": {},
   "source": [
    "#### [문제3] \n",
    "\n",
    "두 개의 리스트를 인자로 받아서 그 두 개의 리스트에 대한 '합집합'을 반환하는 함수 list_union(lista, listb)를 작성하시오.\n",
    "\n",
    "- 집합 자료형 set은 사용하지 않는다.\n",
    "- 인자로 전달하는 리스트 2 개에는 정수값만 들어간다고 가정하자.\n",
    "- 함수 내에서 새로운 리스트를 만들어 그 리스트 내에 인자로 받은 두 리스트의 모든 원소를 넣어 반환한다.\n",
    "- 반환하는 리스트에는 절대로 중복된 원소가 들어 있으면 안된다 (집합의 조건).\n",
    "- 반환하는 리스트는 정렬이 되어 있어야 한다.\n",
    "- 다음과 같은 실행 및 출력 결과가 도출되어야 한다.\n",
    "    - list_union([1, 2, 3], [1, 2, 4])\n",
    "        - [1, 2, 3, 4]\n",
    "    - list_union([-10, -5, 0, -1], [100, 9, 0, 9])\n",
    "        - [-10, -5, -1, 0, 9, 100]\n",
    "    - list_union([0, 1, 2], [0, 1, 2])\n",
    "        - [0, 1, 2]\n",
    "- [참고] 리스트(l) 내에 새로운 정수값 (예를 들어 10)을 넣는 방법은 l.append(10) 이다.\n",
    "- [참고] 임의의 정수값 (x)이 리스트 (l) 내에 존재하는지 판단하는 방법은 x in l 이다."
   ]
  },
  {
   "cell_type": "code",
   "execution_count": 3,
   "id": "080f4385",
   "metadata": {},
   "outputs": [
    {
     "name": "stdout",
     "output_type": "stream",
     "text": [
      "[1, 2, 3, 4, 5, 6]\n"
     ]
    }
   ],
   "source": [
    "def list_union(lista, listb):\n",
    "    _list = []\n",
    "    result = []\n",
    "    \n",
    "    _list = lista + listb\n",
    "                    \n",
    "    for r in _list:\n",
    "        if r not in result:\n",
    "            result.append(r)\n",
    "            \n",
    "    return result\n",
    "\n",
    "print(list_union([1, 2, 3, 4, 5], [1, 3, 5, 6]))"
   ]
  },
  {
   "cell_type": "markdown",
   "id": "effcc24a",
   "metadata": {},
   "source": [
    "#### [설명3] \n",
    " \n",
    "- 리스트 _list와 result를 선언한다. \n",
    "- 리스트 _lsit를 lista와 listb를 합친 리스트로 초기화한다.\n",
    "- 반복문을 통해 리스트 _list에 서로 다른 요소만 리스트 result에 삽입한다.\n",
    "- 리스트 result를 반환하다.\n",
    "***"
   ]
  },
  {
   "cell_type": "markdown",
   "id": "9209d43a",
   "metadata": {},
   "source": [
    "#### [문제4] \n",
    "\n",
    "두 개의 리스트를 인자로 받아서 그 두 개의 리스트에 대한 '교집합'을 반환하는 함수 list_intersection(lista, listb)와 '차집합'을 반환하는 함수 list_difference(lista, listb)를 작성하시오.\n",
    "- 모든 가정과 조건은 3번 문제와 동일하다."
   ]
  },
  {
   "cell_type": "code",
   "execution_count": 4,
   "id": "059af330",
   "metadata": {},
   "outputs": [
    {
     "name": "stdout",
     "output_type": "stream",
     "text": [
      "[1]\n",
      "[3]\n"
     ]
    }
   ],
   "source": [
    "def list_intersection(lista, listb):\n",
    "    _list = []\n",
    "    result = []\n",
    "    \n",
    "    for i in lista:\n",
    "        if i in listb:\n",
    "            _list.append(i)\n",
    "            \n",
    "    for r in _list:\n",
    "        if r not in result:\n",
    "            result.append(r)\n",
    "    \n",
    "    return result\n",
    "    \n",
    "def list_difference(lista, listb):\n",
    "    _list = []\n",
    "    result = []\n",
    "    \n",
    "    for i in lista:\n",
    "        if i not in listb:\n",
    "            _list.append(i)\n",
    "            \n",
    "    for r in _list:\n",
    "        if r not in result:\n",
    "            result.append(r)\n",
    "    \n",
    "    return result\n",
    "\n",
    "print(list_intersection([1, 2, 3], [1, 5, 6]))\n",
    "print(list_difference([1, 2, 3], [1, 2, 4]))"
   ]
  },
  {
   "cell_type": "markdown",
   "id": "d46c686a",
   "metadata": {},
   "source": [
    "#### [설명4] \n",
    "  \n",
    "- list_intersection(lista, listb) 함수\n",
    "    - 리스트 _list, result를 선언한다.\n",
    "    - lista의 요소 중 listb에 있는 요소만을 _list에 삽입한다.\n",
    "    - 반복문을 통해 리스트 _list에 서로 다른 요소만 리스트 result에 삽입한다.\n",
    "    - 리스트 result를 반환하다.\n",
    " \n",
    "   \n",
    "- list_difference(lista, listb) 함수\n",
    "    - 리스트 _list, result를 선언한다.\n",
    "    - lista의 요소 중 listb에 없는 요소만을 _list에 삽입한다.\n",
    "    - 반복문을 통해 리스트 _list에 서로 다른 요소만 리스트 result에 삽입한다.\n",
    "    - 리스트 result를 반환하다.\n",
    "  \n",
    "***"
   ]
  },
  {
   "cell_type": "markdown",
   "id": "bb22b651",
   "metadata": {},
   "source": [
    "#### [문제5] \n",
    "\n",
    "두 개의 양의 정수를 인자로 받아서 해당 범위안에 있는 소수(prime number)의 리스트를 출력하는 함수 print_primenumber(a, b)를 작성하시오.\n",
    "- 이미 구현된 모듈이나 라이브러리는 사용하지 않는다.\n",
    "- 함수의 반환(return)은 없으며 함수 내의 끝에서 .format()을 사용하여 다음과 같이 출력한다.\n",
    "    - print_primenumber(2, 10)\n",
    "        - 2 이상 10 이하 정수 중 소수 리스트: [2, 3, 5, 7]"
   ]
  },
  {
   "cell_type": "code",
   "execution_count": 5,
   "id": "c24a1f91",
   "metadata": {},
   "outputs": [
    {
     "name": "stdout",
     "output_type": "stream",
     "text": [
      "2 이상 10 이하 정수 중 소수 리스트: [2, 3, 5, 7]\n"
     ]
    }
   ],
   "source": [
    "def print_primenumber(a, b):\n",
    "\n",
    "    if (b == 1) or (b == 0):\n",
    "        print(\"None\")\n",
    "    else:\n",
    "        p = list(range(a, b+1))\n",
    "        \n",
    "        i = 0\n",
    "        while i < len(p):\n",
    "            j = i+1\n",
    "            while j < len(p):\n",
    "                if (p[j] % p[i]) == 0:\n",
    "                    p.remove(p[j])\n",
    "                else:\n",
    "                    j += 1\n",
    "            i += 1\n",
    "\n",
    "        print(\"{} 이상 {} 이하 정수 중 소수 리스트: {}\".format(a, b, p))\n",
    "\n",
    "print_primenumber(2,10)"
   ]
  },
  {
   "cell_type": "markdown",
   "id": "48e7b714",
   "metadata": {},
   "source": [
    "#### [설명5] \n",
    "  \n",
    "- b의 값이 1이거나 0일 경우에는 소수가 존재하지 않기 때문에, \"None\"을 출력한다.\n",
    "- b의 값이 2 이상일 경우 리스트 p를 정수 a부터 b까지의 수로 초기화한다.\n",
    "- 반복문을 통해 리스트 p에 있는 소수가 아닌 정수를 제거한다.\n",
    "- .format()을 이용하여 a, b, p를 '{} 이상 {} 이하 정수 중 소수리스트: {}' 형식에 맞추어 출력한다.\n",
    "***"
   ]
  },
  {
   "cell_type": "markdown",
   "id": "a6d4351e",
   "metadata": {},
   "source": [
    "#### [Incremental Project 문제] \n",
    "\n",
    "웹 URL로 지정된 웹페이지를 문자열로 가져와 1) 모든 HTML 태그를 제외한 순수 텍스트 문자열만을 걸러내고, 2) 그 순수 텍스트 문자열 안에 존재하는 단어가 총 몇개인지 출력하는 프로그램을 작성하시오.\n",
    " \n",
    "- 단어를 나누는 기준은 오로지 공백문자 (whitespace)이다.\n",
    "- 중복을 고려하지 않고 무조건 모든 단어의 개수를 세어서 출력한다.\n",
    "- 본 숙제를 위하여 HTML 파싱과 관련된 모듈 (예. BeautifulSoup) 사용 금지\n",
    "- 본 문제에 대한 정확한 답안은 존재하지 않으며, 채점은 코딩 내용을 보고 코딩의 정확성, 완결성, 가독성 등을 보고 평가한다.\n",
    "- 2개 이상의 URL에 대하여 순수한 단어의 개수를 출력하는 예시를 제시할 것\n"
   ]
  },
  {
   "cell_type": "code",
   "execution_count": 6,
   "id": "a8d9217f",
   "metadata": {},
   "outputs": [],
   "source": [
    "def MakeSimple(s): # 리스트에 순수 문자열만 저장하여 반환하는 함수\n",
    "    r_html = 0\n",
    "    r_script = 0\n",
    "    \n",
    "    i = 0\n",
    "    while i < len(s):\n",
    "        if s[i] == '<':\n",
    "            r_html = i\n",
    "        elif s[i] == '>':\n",
    "            if s[r_html:i+1] in \"<script>\":\n",
    "                r_script = r_html\n",
    "            elif s[r_html:i+1] in \"</script>\":\n",
    "                s = s[:r_script] + s[i+1:]\n",
    "                i = r_script   #인덱스 조정\n",
    "            else:\n",
    "                s = s[:r_html] + s[i+1:]\n",
    "                i = r_html - 1 #인덱스 조정\n",
    "        elif s[i:i+2] == '\\n':\n",
    "            s = s[:i] + s[i+2:]\n",
    "            i = i + 1          #인덱스 조정\n",
    "\n",
    "        i = i + 1\n",
    "        \n",
    "    return s\n"
   ]
  },
  {
   "cell_type": "code",
   "execution_count": 7,
   "id": "766fd695",
   "metadata": {},
   "outputs": [],
   "source": [
    "def CountWord(s): # 공백을 기준으로 단어의 개수를 반환하는 함수\n",
    "    s_list = s.split()\n",
    "    cnt = len(s_list)\n",
    "    return cnt"
   ]
  },
  {
   "cell_type": "code",
   "execution_count": 9,
   "id": "b8dead80",
   "metadata": {},
   "outputs": [
    {
     "name": "stdout",
     "output_type": "stream",
     "text": [
      "http://www.naver.com 의 순수 문자열 개수 :  11511\n",
      "https://www.google.co.kr/ 의 순수 문자열 개수 :  358\n"
     ]
    }
   ],
   "source": [
    "import requests\n",
    "\n",
    "req1 = requests.get('http://www.naver.com')\n",
    "req2 = requests.get('https://www.google.co.kr/')\n",
    "s1 = req1.text\n",
    "s2 = req2.text\n",
    "\n",
    "print('http://www.naver.com 의 순수 문자열 개수 : ', CountWord(s1))\n",
    "print('https://www.google.co.kr/ 의 순수 문자열 개수 : ', CountWord(s2))"
   ]
  },
  {
   "cell_type": "markdown",
   "id": "86ae3307",
   "metadata": {},
   "source": [
    "#### [설명] \n",
    " \n",
    "- MakeSimple(s) 함수\n",
    "    - r_html : html 태그를 삭제하기 위한 인덱스를 저장할 변수\n",
    "    - r_script : script 부분을 삭제하기 위한 인덱스를 저장할 변수\n",
    "    - while문을 통해 문자열 s의 길이만큼 반복한다.\n",
    "    - 문자열 s[i]가 '<'인 경우 r_html에 i의 값을 대입한다.\n",
    "    - 문자열 s[i]가 '>'인 경우 script 시작 태그의 '>'인지 종료 태그의 '>'인지 조건문으로 판별한다.\n",
    "        - script 시작 태그의 '>'인 경우 r_script에 r_html의 값을 대입한다.\n",
    "        - script 종료 태그의 '>'인 경우 슬라이싱을 통해 문자열 s에서 스크립트 태그의 내용을 제거한 뒤, i에 r_script의 값을 대입한다.\n",
    "        - 둘 다 아닌 경우 html 태그이며, 괄호를 포함한 괄호 사이의 내용을 슬라이싱을 통해 문자열 s에서 제거한뒤, i에 (r_html - 1)의 값을 대입한다.\n",
    "    - 문자열 s[i:i+2]가 '\\n'인 경우 문자열 s에서 '\\n'을 제거하고 i에 1을 더한다.\n",
    "    - while문 진행을 위해 i에 1을 더한다.\n",
    "    - 반복문이 끝나면 문자열 s를 반환한다. 이때, 문자열 s에는 순수 문자열만 남아있다.\n",
    "        \n",
    "        \n",
    "- CountWord(s) 함수\n",
    "    - 리스트 s_list를 선언하고, spilt()함수를 통해 공백을 기준으로 문자열 s를 나누어 리스트를 초기화한다.\n",
    "    - 변수 cnt를 선언하고, len()함수를 통해 s_list의 요소 개수로 변수를 초기화한다.\n",
    "    - 변수 cnt 반환한다. 이때, cnt의 값은 공백을 기준으로 문자열 s를 나누었을 때, 나누어진 문자열의 개수이다.\n",
    "***"
   ]
  },
  {
   "cell_type": "markdown",
   "id": "774f669b",
   "metadata": {},
   "source": [
    "#### [느낀점]\n",
    " \n",
    "- 예전에는 종이에 정리하지 않고 바로 코드로 작성하면서 고쳐나가는 방식으로 연습했었는데, 이번부터 종이에 수기로 직접 알고리즘을 짜고 코드로 옮기면서 과제를 이행하였다. 그리고 글로 먼저 정리한 다음에 코드를 짜는 것이 더 효율적이라는 것을 직접 몸으로 느끼면서 수기의 중요성을 느꼈다.\n",
    "- Incremental project 문제를 풀면서, 인덱스를 생각하면서 코드를 짜는 것이 힘들었다. \n",
    "***"
   ]
  }
 ],
 "metadata": {
  "kernelspec": {
   "display_name": "Python 3",
   "language": "python",
   "name": "python3"
  },
  "language_info": {
   "codemirror_mode": {
    "name": "ipython",
    "version": 3
   },
   "file_extension": ".py",
   "mimetype": "text/x-python",
   "name": "python",
   "nbconvert_exporter": "python",
   "pygments_lexer": "ipython3",
   "version": "3.8.8"
  }
 },
 "nbformat": 4,
 "nbformat_minor": 5
}
