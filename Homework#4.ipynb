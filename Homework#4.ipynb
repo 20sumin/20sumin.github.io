{
 "cells": [
  {
   "cell_type": "markdown",
   "id": "fae3cbfe",
   "metadata": {},
   "source": [
    "### 2020136099 이수민 Homeword#4\n",
    "***"
   ]
  },
  {
   "cell_type": "markdown",
   "id": "c8b47925",
   "metadata": {},
   "source": [
    "#### [문제 1]   \n",
    "다음 문제를 읽고 알맞은 코드를 제시하시오.\n",
    "> 1. 파일 s.txt 내의 다음 내용과 함계 아래 문제의 코드를 제시하시오."
   ]
  },
  {
   "cell_type": "code",
   "execution_count": 1,
   "id": "7d6b48d9",
   "metadata": {},
   "outputs": [],
   "source": [
    "with open('s.txt', 'w') as fw:\n",
    "    fw.write(\"pig ham\\ncat dog\\nham bird\\ndog pig\")"
   ]
  },
  {
   "cell_type": "markdown",
   "id": "2ef38302",
   "metadata": {},
   "source": [
    "- with 구문을 사용하여 s.txt 파일을 쓰기 모드로 열어 내용을 파일에 쓴다."
   ]
  },
  {
   "cell_type": "code",
   "execution_count": 2,
   "id": "9b906b88",
   "metadata": {},
   "outputs": [
    {
     "name": "stdout",
     "output_type": "stream",
     "text": [
      "pig ham\n",
      "cat dog\n",
      "ham bird\n",
      "dog pig\n"
     ]
    }
   ],
   "source": [
    "with open('s.txt', 'r') as fr:\n",
    "    text = fr.read()\n",
    "    print(text)"
   ]
  },
  {
   "cell_type": "markdown",
   "id": "266ccc83",
   "metadata": {},
   "source": [
    "- with 구문을 사용하여 s.txt 파일을 읽기 모드로 열어 파일의 내용을 확인한다.\n",
    "***"
   ]
  },
  {
   "cell_type": "markdown",
   "id": "ddcec351",
   "metadata": {},
   "source": [
    "> 2. 파일 s.txt을 읽어서 각 라인에 있는 첫 번째 단어(문자열) 자체들을 기준으로 라인별 정렬후 파일 s1.txt에 그 결과를 기록하는 코드를 작성하시오. 즉, 프로그램 수행 후 s1.txt에 있는 파일 내용은 다음과 같다."
   ]
  },
  {
   "cell_type": "code",
   "execution_count": 3,
   "id": "b58fa428",
   "metadata": {},
   "outputs": [
    {
     "name": "stdout",
     "output_type": "stream",
     "text": [
      "['cat dog', 'dog pig', 'ham bird', 'pig ham']\n"
     ]
    }
   ],
   "source": [
    "text_list1 = text.split(\"\\n\")\n",
    "text_list1.sort()\n",
    "print(text_list1)"
   ]
  },
  {
   "cell_type": "markdown",
   "id": "73c662e9",
   "metadata": {},
   "source": [
    "- 위에서 받아온 s.txt의 내용인 text를 split 함수를 통해 구분자로 \"\\n\"로 지정하여 리스트 text_list1을 생성한다.\n",
    "- text_list1을 정렬한 뒤, 출력을 통해 확인한다."
   ]
  },
  {
   "cell_type": "code",
   "execution_count": 4,
   "id": "ea5ee425",
   "metadata": {},
   "outputs": [],
   "source": [
    "with open('s1.txt', 'w') as fw1:\n",
    "    for line in text_list1:\n",
    "        fw1.write(line)\n",
    "        fw1.write(\"\\n\")"
   ]
  },
  {
   "cell_type": "markdown",
   "id": "8abedf31",
   "metadata": {},
   "source": [
    "- with 구문을 통해 s1.txt 파일을 쓰기 모드로 열어 for문을 통해 text_list1의 요소들을 한줄에 하나씩 파일에 쓴다."
   ]
  },
  {
   "cell_type": "code",
   "execution_count": 5,
   "id": "34bac55e",
   "metadata": {},
   "outputs": [
    {
     "name": "stdout",
     "output_type": "stream",
     "text": [
      "cat dog\n",
      "dog pig\n",
      "ham bird\n",
      "pig ham\n",
      "\n"
     ]
    }
   ],
   "source": [
    "with open('s1.txt', 'r') as fr1:\n",
    "    text1 = fr1.read()\n",
    "    print(text1)"
   ]
  },
  {
   "cell_type": "markdown",
   "id": "c1fcaf41",
   "metadata": {},
   "source": [
    "- with 구문을 통해 s1.txt파일을 읽기 모드로 열어 파일의 내용을 확인한다. \n",
    "***"
   ]
  },
  {
   "cell_type": "markdown",
   "id": "9061bf5f",
   "metadata": {},
   "source": [
    "> 3. 파일 s.txt을 읽어서 각 라인에 있는 두 번째 단어(문자열) 자체들을 기준으로 라인별 정렬후 파일 s2.txt에 그 결과를 기록하는 코드를 작성하시오. 즉, 프로그램 수행 후 s2.txt에 있는 파일 내용은 다음과 같다."
   ]
  },
  {
   "cell_type": "code",
   "execution_count": 6,
   "id": "cdf7d24e",
   "metadata": {},
   "outputs": [
    {
     "name": "stdout",
     "output_type": "stream",
     "text": [
      "['cat dog', 'ham bird', 'pig ham', 'dog pig']\n"
     ]
    }
   ],
   "source": [
    "text_list2 = text.split(\"\\n\")\n",
    "text_list2.sort(key = lambda x : x[1])\n",
    "print(text_list2)"
   ]
  },
  {
   "cell_type": "markdown",
   "id": "61446188",
   "metadata": {},
   "source": [
    "- 위에서 받아온 s.txt의 내용인 text를 split 함수를 통해 구분자로 \"\\n\"로 지정하여 리스트 text_list2을 생성한다.\n",
    "- 정렬하기 위해 sort함수를 사용했으며, sort 함수의 인자에 lambda 함수를 이용하여 두번째 알파벳을 기준으로 정렬하도록 key를 설정하였다.\n",
    "- 출력을 하여 확인한다."
   ]
  },
  {
   "cell_type": "code",
   "execution_count": 7,
   "id": "df5361cc",
   "metadata": {},
   "outputs": [],
   "source": [
    "with open('s2.txt', 'w') as fw2:\n",
    "    for line in text_list2:\n",
    "        fw2.write(line)\n",
    "        fw2.write(\"\\n\")"
   ]
  },
  {
   "cell_type": "markdown",
   "id": "9a649f9e",
   "metadata": {},
   "source": [
    "- with 구문을 통해 s2.txt 파일을 쓰기 모드로 열어 for문을 통해 text_list2의 요소들을 한줄에 하나씩 파일에 쓴다."
   ]
  },
  {
   "cell_type": "code",
   "execution_count": 8,
   "id": "32987382",
   "metadata": {},
   "outputs": [
    {
     "name": "stdout",
     "output_type": "stream",
     "text": [
      "cat dog\n",
      "ham bird\n",
      "pig ham\n",
      "dog pig\n",
      "\n"
     ]
    }
   ],
   "source": [
    "with open('s2.txt', 'r') as fr2:\n",
    "    text2 = fr2.read()\n",
    "    print(text2)"
   ]
  },
  {
   "cell_type": "markdown",
   "id": "ebc4a410",
   "metadata": {},
   "source": [
    "- with 구문을 통해 s2.txt파일을 읽기 모드로 열어 파일의 내용을 확인한다. \n",
    "***"
   ]
  },
  {
   "cell_type": "markdown",
   "id": "9a782336",
   "metadata": {},
   "source": [
    "> 4. 파일 s.txt을 읽어서 각 라인들에 있는 모든 단어들을 순차적으로 다시 나열하되 각 라인에 세 개의 단어들이 오도록 하여 s3.txt에 기록하는 코드를 작성하시오. 즉, 프로그램 수행 후 s3.txt에 있는 파일 내용은 다음과 같다."
   ]
  },
  {
   "cell_type": "code",
   "execution_count": 9,
   "id": "77a1420a",
   "metadata": {},
   "outputs": [
    {
     "name": "stdout",
     "output_type": "stream",
     "text": [
      "['pig', 'ham', 'cat', 'dog', 'ham', 'bird', 'dog', 'pig']\n"
     ]
    }
   ],
   "source": [
    "text_list3 = text.replace(\"\\n\", \" \").split(\" \")\n",
    "print(text_list3)"
   ]
  },
  {
   "cell_type": "markdown",
   "id": "bfb5160a",
   "metadata": {},
   "source": [
    "- 위에서 받아온 s.txt의 내용인 text를 replace 함수를 통해 \"\\n\"를 공백으로 바꾸었으며, split 함수를 통해 구분자로 공백으로 지정하여 리스트 text_list3을 생성하였다."
   ]
  },
  {
   "cell_type": "code",
   "execution_count": 10,
   "id": "22ea5379",
   "metadata": {},
   "outputs": [],
   "source": [
    "with open('s3.txt', 'w') as fw3:\n",
    "    cnt = 1\n",
    "    for word in text_list3:\n",
    "        fw3.write(word)\n",
    "        fw3.write(\" \")\n",
    "        if cnt == 3:\n",
    "            fw3.write(\"\\n\")\n",
    "            cnt = 0\n",
    "        cnt += 1"
   ]
  },
  {
   "cell_type": "markdown",
   "id": "af5547a8",
   "metadata": {},
   "source": [
    "- with 구문을 통해 s3.txt 파일을 쓰기 모드로 열어 for문을 통해 text_list3의 요소들을 한줄에 3개씩 파일에 쓴다."
   ]
  },
  {
   "cell_type": "code",
   "execution_count": 11,
   "id": "196ca696",
   "metadata": {},
   "outputs": [
    {
     "name": "stdout",
     "output_type": "stream",
     "text": [
      "pig ham cat \n",
      "dog ham bird \n",
      "dog pig \n"
     ]
    }
   ],
   "source": [
    "with open('s3.txt', 'r') as fr3:\n",
    "    text3 = fr3.read()\n",
    "    print(text3)"
   ]
  },
  {
   "cell_type": "markdown",
   "id": "5938f2b6",
   "metadata": {},
   "source": [
    "- with 구문을 통해 s3.txt파일을 읽기 모드로 열어 파일의 내용을 확인한다. \n",
    "***"
   ]
  },
  {
   "cell_type": "markdown",
   "id": "90943a55",
   "metadata": {},
   "source": [
    "#### [문제 2]\n",
    "다음과 같은 조건들을 참고하여 회원 가입 및 로그인 프로그램을 작성하시오.   \n",
    "   \n",
    "- 프로그램 시작 후 다음과 같은 메시지가 출력되어 1, 2, 3 중 하나의 값을 입력 받도록 한다.\n",
    "> Welcome to Our Service  \n",
    ">   \n",
    "> A. Sign Up   \n",
    "> B. Sign In   \n",
    "> C. Quit\n",
    "- 1을 선택하면 ID, Password, Name, School의 4가지 정보를 입력받아 파일에 저장하는 프로그램을 작성한다.\n",
    "    - 입력된 내용은 access.txt 라는 이름의 텍스트 파일 내에 저장된다.\n",
    "    - access.txt 파일의 각 라인에는 가입된 회원 각각의 정보가 \"[id]: [password], [name], [school]\" 형태로 저장된다.\n",
    "    - 즉, 가입 회원이 10명이면 access.txt 파일 내에 라인 수도 정확히 10개이다.\n",
    "    - 암호화 방식은 sha 모듈을 활용한다. sha 모듈 활용 방법은 본 문제의 마지막에 제시된 sha 활용 예를 참고한다.\n",
    "        - 즉, access.txt 파일 내에 password 정보는 암호화 되어 저장되어야 한다.\n",
    "    - 회원 정보를 입력 받을 때 id를 입력 받은 직후 access.txt를 확인하여 이미 존재하는 id가 입력되었다면 다음 메시지를 출력하고 id 정보를 다시 입력받는다.\n",
    "        - Sorry, the entered ID is already used.\n",
    "- 2를 선택하면 ID, Password의 2가지 정보를 입력받는 프로그램을 작성한다.\n",
    "    - 입력된 ID 정보가 access.txt에 존재하지 않으면 다음과 같은 메시지를 출력하고 다시 입력받는다.\n",
    "        - Sorry, you are not a registered member.\n",
    "    - 입력된 ID가 올바르게 존재하지만 Password 정보가 access.txt 파일에 있는 정보와 불일치하면 다음과 같은 메시지를 출력하고 Password를 다시 입력받는다.\n",
    "        - Sorry, the entered password is not correct.\n",
    "        - 이 때에도 사용자가 입력한 Password 정보와 함께 sha 모듈이 활용되어야 한다.\n",
    "    - 입력된 ID와 Password가 모두 올바르면 다음과 같은 메시지를 출력한다.\n",
    "        - Hello [name]!\n",
    "        - 위 [name]에는 access.txt에 기록되어 있는 name 정보를 출력한다.\n",
    "- 3을 선택하면 프로그램이 끝난다."
   ]
  },
  {
   "cell_type": "code",
   "execution_count": 12,
   "id": "b22504e5",
   "metadata": {},
   "outputs": [],
   "source": [
    "import hashlib\n",
    "import os\n",
    "\n",
    "if os.path.isfile('access.txt'):\n",
    "    os.remove('access.txt')\n",
    "f = open('access.txt', 'w')\n",
    "f.close()"
   ]
  },
  {
   "cell_type": "markdown",
   "id": "19b730d7",
   "metadata": {},
   "source": [
    "- hashlib, os 모듈 import\n",
    "- 프로그램 시작 전, access.txt 초기화"
   ]
  },
  {
   "cell_type": "code",
   "execution_count": 13,
   "id": "cd35ef67",
   "metadata": {
    "scrolled": true
   },
   "outputs": [],
   "source": [
    "def sign_up():\n",
    "    print(\"Sign up\\n\")\n",
    "    while(True):\n",
    "        state = 0\n",
    "        ID = input(\"ID : \")\n",
    "        with open('access.txt', 'r') as f:\n",
    "            id = f.readlines()\n",
    "            for line in id:\n",
    "                line_list = line.split(\" \")\n",
    "                if ID == line_list[0]:\n",
    "                    state = 1\n",
    "                    break;\n",
    "        if state == 1:\n",
    "            print(\"Sorry, the entered ID is already used.\")\n",
    "        else:  break\n",
    "            \n",
    "    Password = input(\"Password : \")\n",
    "    Pw = hashlib.sha256(Password.encode()).hexdigest()\n",
    "    Name = input(\"Name : \")\n",
    "    School = input(\"School : \")\n",
    "\n",
    "    with open('access.txt', 'a') as f:\n",
    "        f.write(\"{} : {}, {}, {}\".format(ID, Pw, Name, School))\n",
    "        f.write(\"\\n\")"
   ]
  },
  {
   "cell_type": "markdown",
   "id": "d9cccbb0",
   "metadata": {},
   "source": [
    "sign_up() : 회원가입 함수\n",
    "- 사용자로부터 ID를 입력받은 뒤 access.txt 파일을 읽기모드로 열어 입력 받은 ID와 일치하는 ID가 있는지 판단하여 중복되지 않는 ID가 입력될 때까지 아이디를 입력받도록 한다.\n",
    "- 중복되는 ID가 있을 경우 \"Sorry, the entered ID is already used.\" 메세지를 출력하기 위해 중복되는 ID를 access.txt 파일에서 발견 한 경우 state의 값을 1로 지정한다.\n",
    "- ID를 입력받고 나면, Password, Name, School을 차례대로 입력받는다.\n",
    "- Password를 입력받은 뒤에 Pw에 입력받은 Password를 암호화하여 저장한다.\n",
    "- access.txt 파일을 쓰기 모드로 열어 ID, Pw(암호화된 Password), Name, School을 \"{} : {}, {}, {}\"형식으로 한줄에 쓴다."
   ]
  },
  {
   "cell_type": "code",
   "execution_count": 14,
   "id": "fa800921",
   "metadata": {},
   "outputs": [],
   "source": [
    "def sign_in():\n",
    "    print(\"Sign in\\n\")\n",
    "    index = 0;\n",
    "    while(True):\n",
    "        state = 0\n",
    "        member_id = input(\"ID : \")\n",
    "        with open('access.txt', 'r') as f:\n",
    "            id = f.readlines()\n",
    "            for line in id:\n",
    "                line_list = line.split(\" \")\n",
    "                if member_id == line_list[0]:\n",
    "                    state = 1\n",
    "                    break;\n",
    "                index += 1\n",
    "        if state == 0:\n",
    "            print(\"Sorry, you are not a registered member.\")\n",
    "            index = 0\n",
    "        else: break\n",
    "        \n",
    "    while(True):\n",
    "        state = 0\n",
    "        member_pw = input(\"Password : \")\n",
    "        pw = hashlib.sha256(member_pw.encode()).hexdigest()\n",
    "        with open('access.txt', 'r') as f:\n",
    "            id = f.readlines()\n",
    "            member = id[index].replace(\",\", \"\").split(\" \")\n",
    "            if pw == member[2]:\n",
    "                state = 1\n",
    "        if state == 0:\n",
    "            print(\"Sorry, the entered password is not correct.\")\n",
    "        else:\n",
    "            print(\"Hello \" + member[3] + \"!\")\n",
    "            break"
   ]
  },
  {
   "cell_type": "markdown",
   "id": "09f1b241",
   "metadata": {},
   "source": [
    "sign_in() : 로그인 함수\n",
    "- 사용자로부터 member_id를 입력받은 뒤에, access.txt 파일을 읽기 모드로 열어 해당 아이디가 파일에 있는지 확인한다.\n",
    "- 파일에서 동일한 아이디를 발견한 경우, index에 몇번째 줄인지 저장하도록 한다. 그리고 발견하지 못할 경우 \"Sorry, you are not a registered member.\"메세지를 출력한 뒤, 다시 아이디를 입력받는다.\n",
    "- 사용자로부터 member_pw를 입력받은 뒤에 pw에 입력받은 비밀번호는 암호화하여 대입한 뒤, access.txt. 파일을 읽기 모드로 열어 index를 통해 위에서 입력한 아이디에 해당하는 비밀번호와 동일한지 확인한다.\n",
    "- 비밀번호다 다른 경우 \"Sorry, the entered password is not correct.\" 메세지를 출력하고, 다시 비밀번호를 입력받는다.\n",
    "- 비밀번호가 일치하는 경우 Hello [Name]!의 형식대로 id에 해당하는 name을 출력한다."
   ]
  },
  {
   "cell_type": "code",
   "execution_count": 15,
   "id": "388d5149",
   "metadata": {},
   "outputs": [
    {
     "name": "stdout",
     "output_type": "stream",
     "text": [
      "Welcome to Our Service\n",
      "\n",
      " A. Sign Up\n",
      " B. Sign In\n",
      " C. Quit\n",
      "\n",
      "입력하시오(1(Sign Up), 2(Sign In), 3(Quit)) : 1\n",
      "Sign up\n",
      "\n",
      "ID : lsm\n",
      "Password : koreatech\n",
      "Name : sumin\n",
      "School : koreatech\n",
      "입력하시오(1(Sign Up), 2(Sign In), 3(Quit)) : 2\n",
      "Sign in\n",
      "\n",
      "ID : lms\n",
      "Sorry, you are not a registered member.\n",
      "ID : lsm\n",
      "Password : korea\n",
      "Sorry, the entered password is not correct.\n",
      "Password : koreatech\n",
      "Hello sumin!\n",
      "입력하시오(1(Sign Up), 2(Sign In), 3(Quit)) : 3\n",
      "프로그램이 종료되었습니다...\n"
     ]
    }
   ],
   "source": [
    "print(\"Welcome to Our Service\\n\")\n",
    "print(\" A. Sign Up\\n B. Sign In\\n C. Quit\\n\")\n",
    "while(True):\n",
    "    choice = input(\"입력하시오(1(Sign Up), 2(Sign In), 3(Quit)) : \")\n",
    "    if choice == '1':\n",
    "        sign_up()\n",
    "    elif choice == '2':\n",
    "        sign_in()\n",
    "    elif choice == '3':\n",
    "        print(\"프로그램이 종료되었습니다...\")\n",
    "        break\n",
    "    else:\n",
    "        print(\"잘못된 입력입니다.\")"
   ]
  },
  {
   "cell_type": "markdown",
   "id": "ca767b4b",
   "metadata": {},
   "source": [
    "- while문 안에서 사용자로부터 1, 2, 3 중 하나를 입력받는다.\n",
    "- 1인 경우 sign_up() 함수를 불러온다.\n",
    "- 2인 경우 sign_in() 함수를 불러온다.\n",
    "- 3인 경우 break문을 통해 while에서 빠져나와 프로그램을 종료한다.\n",
    "- 위의 경우가 아닌 경우, \"잘못된 입력입니다.\" 메세지를 출력한 뒤 다시 입력받는다.\n",
    "***"
   ]
  },
  {
   "cell_type": "markdown",
   "id": "8fceb8a6",
   "metadata": {},
   "source": [
    "#### [문제 3]\n",
    "range() 함수와 유사한 frange() 함수를 다음 조건을 참고하여 만드시오.\n",
    "- frange()의 인자 구성은 다음과 같이 range와 동일하지만 각 인수들은 음수를 받지 않는다고 가정한다.\n",
    ">range(stop)   \n",
    ">range(start, stop, step)\n",
    "- frange() 함수의 인자에 대한 기본 시작(start) 값은 0.0이고, 기본 단계(step) 값은 0.1이다."
   ]
  },
  {
   "cell_type": "code",
   "execution_count": 16,
   "id": "a6b5ba44",
   "metadata": {},
   "outputs": [
    {
     "data": {
      "text/plain": [
       "[0.3, 1.0, 1.7]"
      ]
     },
     "execution_count": 16,
     "metadata": {},
     "output_type": "execute_result"
    }
   ],
   "source": [
    "def frange(start, stop = -1, step = 0.1):\n",
    "    range_list = []\n",
    "    if stop == -1:\n",
    "        stop = start\n",
    "        start = 0\n",
    "    while(start < stop):\n",
    "        range_list.append(start)\n",
    "        start += step\n",
    "            \n",
    "    return range_list\n",
    "\n",
    "frange(0.3, 2, 0.7)"
   ]
  },
  {
   "cell_type": "markdown",
   "id": "3f26d2c3",
   "metadata": {},
   "source": [
    "- 범위를 저장한 리스트 range_list를 생성한다.\n",
    "- start, stop, step을 정의한다.\n",
    "- while문을 start가 stop보다 작을 때까지 반복하도록 한다.\n",
    "- range_list에 start의 값을 대입한 뒤, start의 값을 step씩 더한다.\n",
    "- ragne_list를 반환한다.\n",
    "***"
   ]
  },
  {
   "cell_type": "markdown",
   "id": "f182fadc",
   "metadata": {},
   "source": [
    "#### [문제 4]\n",
    "가변인수를 받는 함수 sum()을 구현하시오."
   ]
  },
  {
   "cell_type": "code",
   "execution_count": 17,
   "id": "1dc156fe",
   "metadata": {},
   "outputs": [],
   "source": [
    "import functools\n",
    "\n",
    "def sum(*args):\n",
    "    return functools.reduce(lambda x, y : x + y, args)"
   ]
  },
  {
   "cell_type": "code",
   "execution_count": 18,
   "id": "88a0cbcd",
   "metadata": {},
   "outputs": [
    {
     "data": {
      "text/plain": [
       "5"
      ]
     },
     "execution_count": 18,
     "metadata": {},
     "output_type": "execute_result"
    }
   ],
   "source": [
    "sum(1, 2, 3, 4, -5)"
   ]
  },
  {
   "cell_type": "markdown",
   "id": "a7b1473a",
   "metadata": {},
   "source": [
    "- functools 모듈을 import한다.\n",
    "- 더할 인자들을 가변인자로 받아온다.\n",
    "- lambda 함수와 reduce 함수를 활용하여 가변인자에 있는 수를 모두 더한 값을 반환한다.\n",
    "***"
   ]
  },
  {
   "cell_type": "markdown",
   "id": "dacf3f33",
   "metadata": {},
   "source": [
    "#### [문제 5]\n",
    "여러 단어로 이루어진 문자열을 입력받아 각 단어의 첫글자로 이루어진 단어를 대문자로 출력하는 myinitial() 함수를 다음 조건을 참고하여 작성하시오.\n",
    "- 다음에 제시되는 함수들을 모두 이용해야 한다.\n",
    "    - split\n",
    "    - map\n",
    "    - join"
   ]
  },
  {
   "cell_type": "code",
   "execution_count": 19,
   "id": "3f91e74c",
   "metadata": {},
   "outputs": [
    {
     "name": "stdout",
     "output_type": "stream",
     "text": [
      "ASAP\n"
     ]
    }
   ],
   "source": [
    "def myinitial(str):\n",
    "    str_list = str.split(\" \")\n",
    "    initial_list = list(map(lambda x: x[0],str_list))\n",
    "    initial = ''.join(initial_list).upper()\n",
    "    print(initial)\n",
    "    \n",
    "myinitial(\"as soon as possible\")\n"
   ]
  },
  {
   "cell_type": "markdown",
   "id": "94f05779",
   "metadata": {},
   "source": [
    "- 문자열을 받아와서 공백을 기준으로 문자열을 나누어 리스트 str_list에 저장한다.\n",
    "- map 함수와 lambda 함수를 활용하여 str_list의 각 요소의 첫번째 문자만 가져와서 리스트 initial_list에 저장한다.\n",
    "- initial_list의 요소들을 대문자로 바꾼 후, 빈칸 없이 문자열로 합쳐 initial에 저장한다.\n",
    "- initial을 출력한다.\n",
    "***"
   ]
  },
  {
   "cell_type": "markdown",
   "id": "f09feb78",
   "metadata": {},
   "source": [
    "#### [문제 6]\n",
    "음이 아닌 정수 n를 입력받으면 n! (factorial)을 계산하는 myfact() 함수를 재귀적 함수로 구현하시오."
   ]
  },
  {
   "cell_type": "code",
   "execution_count": 20,
   "id": "4ee8a242",
   "metadata": {},
   "outputs": [
    {
     "data": {
      "text/plain": [
       "505952377564956574235399487483041822888119906495646428420108128343971780124357271627183187181901985489257810723352466337235751018907859251483748076712221335242456072511956620861657068464658696977275319548308128323491783917474904823913336186702557231203052281424187828395416859857650094981705373496768015046695461677805249020166776518284295970082765903694461122649954549098532765643831376261157499518461143563135097922059297592457480472528808956521277781996009697748813767752317901993583593064711390389256539592213382336750436174727185984611760421291141324911097267225552199730476774453050697842602214070935344031411264401893900574346899099074352438646458875367356096148179163702062404569627599604398082394992936879385517649368601293248572380303208752748532898279993016519568119152122997226350756743992971418437596814731963479245017081663815882070810350128181274021195041969125382972166350502231430456320751213523019414063808516433867248249458204960649567320833484525228075044368117053546317603246367348305223651166741619208572954894754963564906549900945718620560144664619176792361928902055495486766678111048939613458737412922392294514406609754352193128612689646312984389391384542004936977915717862835284618842815353884331578173485518049245163406721754394757532153630949794490352956706658643356384827761671051127033493861835851858266803047303528721645085359830071308178059987895159485448770011421607061291723072538712061663843713634472913489277136293532711346437784150028750732691015545860917019871467854175069186555128848527975507743980014621065347175998899503889555524246048425283036762865132185738163019720604486888790649229080920897997356932714808171903128984446953736128013641915138607295668586443278128585861795381105865300374543687713038363463734625326242378569900174429119032387561641410316557859320181006422069507062358883630822542555165462364329302020473271497387715792071820765665790638352153555764538517631260623412723313093124092432789491632554073948827390735545716441923238289865340885387413615546454862536340143133279001626002846851251985749608403099376032761637880189487407395316371555518384151347805569454991207771447814049085283309396973938146616587548492080685353361421300685402925961961594457843812808323627052444494531230842541527876374091449199498505040454348872835833672606472991662324687936591415102700920099451882798533790160819905229463966579386064091196159794033606595148486318974279886252625281882417946278062935437494064201030712069959884123056091383908894582389150116181563280017248260639726389219082618229436407923655677520787696484231955335749934869835829529232873565123341894383043689415677290245298872397296236062684486528804501714047715809281111825145284594085527682612469161079097724306324717717370616852498132614961555068777564065642212901785044040759229586430531033571738833642484102909150553156027449172810226051647526127119143506842908589132811939877335365609394825488767298324967689803294237085972150685775692210531284369176050389712589027201065029068982183877762434780175410176411293776022903071007023268833118929966361919876102344186026867789948320263121167877330315760562199392980017581153413893390806854924128901636586801254240778519544856193062608281831069246248690202744846293153414312300720120488144461290066803974638049281133970882034227745035365268761916176529984894968882158839745651008741895339444483102420184236636656503952076535669164343850080510907764043670290796001080548105515761735330566670042746571098546589282620109426209884181482355186402707898206641430425001620671967112727455983421839234154954288153498865505042532193748772902749650088676740366711134605696859906919405304391865790833479216987711960824939008151644804857062230211669069733854091647246315171830638665160173141295848165892546880585459436607927176474071620899667956618334059746950873938562409188599241938567067170692849335683578966128411131236518266361726453493044283429562907397961739920262899101091557097458225429801892281994203718754852487125577824395869704288849547013579105355501910384793072992984186683937908935816601954766367685950245149761678601855600240560451474616640462771914114328102885542174972636486024811157948367110693824340795404853680662792040710852726375081527919472495980882595698444686925765216736741417065761432093611761958622217033877441500445781888826033981568474678352598856427653847134498181718363645160970117611198237806641968770399090817865908899097634156897883286063770636278923699777992330368066454906593057270525484589748275601744312937497807614063496206864488956347571208678713857351251986907901301155119653872991190512442242526972487566285913946822301636688681655324235085482760023655672140754322321687858963519125110309264260832864639362761076410076399273686859052245563539008740456478742972074915912598042429112715276797080483484822698765501490430410978494396869083392852410845191024762745118937835484291069818760572045299004832186854889093147675598707363973119450033863038330685809160394058978787332058962616408131153575731817837715853975139168133864169744811491217996493870236325772162182489527457900879728203741482655364355939821462687169262142215976857618362012820567379046490311453885812795002452094207230799870176163322437919683639287666135370401815833833114157811898800783684850036382330136730920295573939818328117306643485779261792831821615739553610107679284541695364939657683746178542760118788613838308936469819427291942011685629577480903614801233083214880029478804996040922186274075836756880804024306078751473402908273251646747992644309725929690164954923031579740513944424076760724123662993821684545937599720064648741572624012685336283652494850265165491710714116374718489034729818280389918959040385125552773949761595076511255097735742149514700239890510147693892465104050405925290340225256290247354872111938446371065651977972020396615781202590783439160203919245603491084569341628299982296116764683113780777390921400474959343950454243439772316470197613709313374203286255015141696789916941932106840344433822594804423071598055281167282171780011466022383650523904986419378845041609455851735293524289387419978210692206302846111773391488175884121102570766897002872703145900033371681393798014544425397255200765468172768570535980920261758464497062501938150472688373769489767558588943257503967378934038491593905386896680129514085292610357934575551496717705414023438716150545440995752904251918923448418223156270058694405255050170867464300372799423619454006883636624680995003769658469030613696236936432069590913382591773157686138328499407784406427308805760759216414925733287713963049493696399382385752236778315567618527900838466462251053761666931318703304661654026328368628876754259925621774699287851246861910845584625608916871935351626827663388730660445798602673640720613960683859065468530587682219591775317089012936269062742766542323135936800322925330833758684418563126325826007396617007834217576725275993610108562544798619626536400277088314201459204383823376559943634430809754806647054466439571225841739621532058941853482752809345093162308901404855233474085243121022418317848999217370129424792306080763705958365013033311530366136930553424436332618971344403186596683093976160965358502597713321038168748925230956815570105995634684054037999913797591638272704582788809169713089976586905012505250924187891686723238511522302073579758158912744029159463165911781806567781258042549923403774721567302720941897494341666584621373121753575105984289757730937867014241826012173778451101146637465044455471909853246060847358204554009205055968763184964159539920129319487624308928830155282689112619749820454152892727555967564143362354220295682215993530992721667609801435444589589598847755289197930460551226323858814103011419655108254159920621031411833690169900373926961071064012696440626630653113890239678769466209364900318934579927782472728196734195503919675356415269316704586534036749990612630025583699768295835742208376937327058309669264558472243712025144898820706116786736088328767049707940907607077728112791287799898737446268042773013232285623381907584849757921426968276132505010829220774454431445160714392448234608332463967141786186867411318473367495692266264774383213263461870491802448140275996364999495942699301677345564954135247466914996254290661281441421798303037648923046578424982193421649853808640000000000000000000000000000000000000000000000000000000000000000000000000000000000000000000000000000000000000000000000000000000000000000000000000000000000000000000000000000000000000000000000000000000000000000000000000000000000000000000000000000000000000000000000000000000000000000000000000000000000000000000000000000000000000000000000000000000000000000000000000000000000000000000000000000000000000000000000000000000000000000000000000000000000000000000000000000000000000000000000000000000000000000000000000000000000000000000000000000000000000000000000000000000000000000000000000000000000000000000000000000000000000000000000000000000000000000000000000000000000000000000000000000000000000000000000000000000000000000000000000000000000000000"
      ]
     },
     "execution_count": 20,
     "metadata": {},
     "output_type": "execute_result"
    }
   ],
   "source": [
    "def myfact(n):\n",
    "    if n == 1:\n",
    "        return 1\n",
    "    return n * myfact(n - 1)\n",
    "    \n",
    "myfact(2958)"
   ]
  },
  {
   "cell_type": "markdown",
   "id": "0b3add16",
   "metadata": {},
   "source": [
    "- n이 1이 될 때까지 함수를 재귀 호출하여 factorial을 구한다.\n",
    "- n이 2958까지만 에러가 발생하지 않고 출력된다.\n",
    "- n이 2959이상이 되버리면 \"RecursionError: maximum recursion depth exceeded in comparison\"라는 에러가 발생한다.\n",
    "***"
   ]
  },
  {
   "cell_type": "markdown",
   "id": "fb534bf4",
   "metadata": {},
   "source": [
    "#### [문제 7]\n",
    "import string 과 from string import * 의 차이점을 설명하시오.\n",
    "   \n",
    "- import string은 string 모듈을 불러오는 것을 의미하며, from string import*는 string 모듈로부터 모두를 import하는 것이다.\n",
    "- import string은 모듈.함수명()으로 사용해야되지만, from string import*는 모듈명을 적지 않고 함수명()으로만 사용할 수 있다.\n",
    "***"
   ]
  },
  {
   "cell_type": "markdown",
   "id": "cf4c6d2d",
   "metadata": {},
   "source": [
    "#### [Incremental Project 문제]\n",
    "이전 Assignment 3의 마지막 문제는 웹 URL로 지정된 웹페이지를 문자열로 가져와 모든 HTML 태그 및 CSS와 Javascript를 제외한 순수 텍스트를 얻어내고 그 안에 존재하는 단어를 추출하여 각 단어들에 대해 출현빈도를 사전형태({'world': 2, 'hello': 1, 'python': 1})로 저장하여 출력하는 것이었다. 이번에는 Assignment 3를 확장하여 다음과 같은 조건을 만족하도록 구현하시오.\n"
   ]
  },
  {
   "cell_type": "markdown",
   "id": "71b55198",
   "metadata": {},
   "source": [
    "> 1. 다음 사이트에서 제시되는 불용어 (Stop words)를 참고하여 이전 숙제에서 구성했던 단어 사전에서 불용어들을 모두 제거하는 코드를 추가하시오."
   ]
  },
  {
   "cell_type": "code",
   "execution_count": 21,
   "id": "b3182092",
   "metadata": {},
   "outputs": [],
   "source": [
    "import re #정규 표현식\n",
    "import requests\n",
    "import string\n",
    "\n",
    "def frequency(html_source):\n",
    "    source=html_source\n",
    "\n",
    "    body = re.search('<body.*/body>', source, re.I|re.S)\n",
    "    source = body.group()\n",
    "\n",
    "    source = re.sub('<script.*?>.*?</script>','',source,0,re.I|re.S)\n",
    "    source = re.sub('<style>.*?</style>','',source,0,re.I|re.S)\n",
    "    source = re.sub('<.+?>', '', source, 0, re.I|re.S )\n",
    "    source = re.sub('{.+?}', '', source, 0, re.I|re.S)\n",
    "    source = re.sub('http.+\"', '', source, 0, re.I|re.S)\n",
    "    source = re.sub('★|©|@|\\n|\\t', ' ', source)\n",
    "    source = re.sub('middot', ' ', source)\n",
    "    source = source.translate(str.maketrans('', '', string.punctuation))\n",
    "\n",
    "    source_list = source.split()\n",
    "    for index in range(len(source_list)):\n",
    "        source_list[index] = ''.join(char for char in source_list[index] if char.isalnum())\n",
    "    source_list = [string for string in source_list if string != '']\n",
    "\n",
    "    source_dict = {}\n",
    "    source_list2 = list(set(source_list))\n",
    "    for s in source_list2:\n",
    "        source_dict[s] = source_list.count(s)\n",
    "    \n",
    "    with open('Korean.txt', 'r', encoding = 'utf-8') as f:\n",
    "        korean = f.read()\n",
    "    with open('English.txt', 'r', encoding = 'utf-8') as f:\n",
    "        english = f.read()\n",
    "\n",
    "    k_list = korean.split(\"\\n\")\n",
    "    e_list = english.split(\"\\n\")\n",
    "\n",
    "    result = {}\n",
    "    for word, cnt in source_dict.items():\n",
    "        if word not in (k_list + e_list):\n",
    "            result[word] = cnt\n",
    "            \n",
    "    return result"
   ]
  },
  {
   "cell_type": "markdown",
   "id": "6f7a2a1c",
   "metadata": {},
   "source": [
    "- 이전 과제에서 순수 문자열을 받아오는 코드를 함수로 구현한다.\n",
    "- txt 파일로 저장한 한글과 영어 불용어 파일을 읽기 모드로 열어서 각각 korean, english에 읽어온다.(Korean.txt, English.txt 파일을 미리 생성하여 사이트에 나타난 불용어를 저장해두었다.)\n",
    "- k_list와 e_list에 구분자 '\\n'를 기준으로 문자열을 나누어 리스트에 저장한다.\n",
    "- 위에서 정의한 출연빈도 딕셔너리인 source_dict를 for문을 통해 읽어와 k_list와 e_list에 없는 단어만 다시 딕셔너리 result에 저장한다.\n",
    "- result를 반환한다.(딕셔너리)\n",
    "***"
   ]
  },
  {
   "cell_type": "markdown",
   "id": "926b4221",
   "metadata": {},
   "source": [
    "> 2. 각 URL로 지정된 웹페이지의 HTML 소스를 파일로 저장하시오.   \n",
    "> (4. 최소 5개 이상의 웹 사이트)"
   ]
  },
  {
   "cell_type": "code",
   "execution_count": 22,
   "id": "d2de3915",
   "metadata": {},
   "outputs": [],
   "source": [
    "req1 = requests.get('https://www.daum.net/')\n",
    "req2 = requests.get('https://www.smtown.com/')\n",
    "req3 = requests.get('https://www.yanolja.com/')\n",
    "req4 = requests.get('https://www.samsung.com/')\n",
    "req5 = requests.get('https://www.samyangcorp.com/')\n",
    "\n",
    "html1 = req1.text\n",
    "html2 = req2.text\n",
    "html3 = req3.text\n",
    "html4 = req4.text\n",
    "html5 = req5.text\n",
    "\n",
    "with open('www.daum.net.html', 'w', encoding = 'UTF-8') as f1:\n",
    "    f1.write(html1)\n",
    "with open('www.smtown.com.html', 'w', encoding = 'UTF-8') as f2:\n",
    "    f2.write(html2)\n",
    "with open('www.yanolja.com.html', 'w', encoding = 'UTF-8') as f3:\n",
    "    f3.write(html3)\n",
    "with open('www.samsung.com.html', 'w', encoding = 'UTF-8') as f4:\n",
    "    f4.write(html4)\n",
    "with open('www.samyangcorp.com.html', 'w', encoding = 'UTF-8') as f5:\n",
    "    f5.write(html5)"
   ]
  },
  {
   "cell_type": "markdown",
   "id": "fdec93dd",
   "metadata": {},
   "source": [
    "- 5개의 사이트에서 html 문서를 읽어온다.\n",
    "- with 구문을 통해 html파일을 쓰기 모드로 열어서 읽어온 html 문서를 파일에 쓴다.\n",
    "- 파일을 열 때, UTF-8로 encooding 한다.\n",
    "***"
   ]
  },
  {
   "cell_type": "markdown",
   "id": "18d1afcf",
   "metadata": {},
   "source": [
    "> 3. 단어의 출현빈도가 담긴 사전 객체를 위 HTML 소스 파일과 동일한 폴더에 파일로 저장하시오.   \n",
    "> (4. 최소 5개 이상의 웹 사이트)"
   ]
  },
  {
   "cell_type": "code",
   "execution_count": 23,
   "id": "753b451f",
   "metadata": {},
   "outputs": [],
   "source": [
    "import pickle\n",
    "\n",
    "result1 = frequency(html1)\n",
    "result2 = frequency(html2)\n",
    "result3 = frequency(html3)\n",
    "result4 = frequency(html4)\n",
    "result5 = frequency(html5)\n",
    "\n",
    "with open('www.daum.net.words_frequency.pickle', 'wb') as f1:\n",
    "    pickle.dump(result1, f1)\n",
    "with open('www.smtown.com.words_frequency.pickle', 'wb') as f2:\n",
    "    pickle.dump(result2, f2)\n",
    "with open('www.yanolja.com.words_frequency.pickle', 'wb') as f3:\n",
    "    pickle.dump(result3, f3)\n",
    "with open('www.samsung.com.words_frequency.pickle', 'wb') as f4:\n",
    "    pickle.dump(result4, f4)\n",
    "with open('www.samyangcorp.com.words_frequency.pickle', 'wb') as f5:\n",
    "    pickle.dump(result5, f5)"
   ]
  },
  {
   "cell_type": "markdown",
   "id": "c86ff4d0",
   "metadata": {},
   "source": [
    "- 5개의 사이트에서 얻은 html 문서를 위에서 작성한 출현빈도 딕셔너리를 반환하는 frequency() 함수의 인자로 넣어 출현빈도 딕셔너리를 각각 저장한다.\n",
    "- pickle 모듈을 통해 각각 파일을 쓰기모드로 열어 frequency()함수를 통해 얻은 출현빈도 딕셔너리를 파일에 저장한다.\n",
    "***"
   ]
  },
  {
   "cell_type": "markdown",
   "id": "a7ec8ec6",
   "metadata": {},
   "source": [
    "> 5. 위 문제에서 저장한 모든 pickle 파일들을 객체로 다시 로드하여 본인이 저장하여 분석한 사이트들 각각에 대해서 가장 많이 출현한 단어 3개씩를 뽑아 제시하시오."
   ]
  },
  {
   "cell_type": "code",
   "execution_count": 24,
   "id": "7ccff3db",
   "metadata": {},
   "outputs": [
    {
     "name": "stdout",
     "output_type": "stream",
     "text": [
      "daum\n",
      "1.날씨 2.영상 3.맑음 \n",
      "\n",
      "smtown\n",
      "1.Video 2.Music 3.MV \n",
      "\n",
      "yanolja\n",
      "1.야놀자 2.부문 3.등록번호 \n",
      "\n",
      "samsung\n",
      "1.갤럭시 2.BESPOKE 3.추천 \n",
      "\n",
      "samyang\n",
      "1.nbsp 2.삼양사 3.제품 \n",
      "\n"
     ]
    }
   ],
   "source": [
    "def rank(dict, num):\n",
    "    rank = sorted(dict.items(), key = lambda x : x[1], reverse = True)\n",
    "    rank = rank[:num]\n",
    "    i = 1\n",
    "    for word in rank:\n",
    "        print('{}.{}'.format(i, word[0]), end = ' ')\n",
    "        i += 1\n",
    "    print(\"\\n\")\n",
    "\n",
    "with open('www.daum.net.words_frequency.pickle', 'rb') as f1:\n",
    "    dict1 = pickle.load(f1) \n",
    "    print(\"daum\")\n",
    "    rank(dict1, 3)\n",
    "with open('www.smtown.com.words_frequency.pickle', 'rb') as f2:\n",
    "    dict2 = pickle.load(f2)\n",
    "    print(\"smtown\")\n",
    "    rank(dict2, 3)\n",
    "with open('www.yanolja.com.words_frequency.pickle', 'rb') as f3:\n",
    "    dict3 = pickle.load(f3)\n",
    "    print(\"yanolja\")\n",
    "    rank(dict3, 3)\n",
    "with open('www.samsung.com.words_frequency.pickle', 'rb') as f4:\n",
    "    dict4 = pickle.load(f4)\n",
    "    print(\"samsung\")\n",
    "    rank(dict4, 3)\n",
    "with open('www.samyangcorp.com.words_frequency.pickle', 'rb') as f5:\n",
    "    dict5 = pickle.load(f5)\n",
    "    print(\"samyang\")\n",
    "    rank(dict5, 3)"
   ]
  },
  {
   "cell_type": "markdown",
   "id": "1cb36432",
   "metadata": {},
   "source": [
    "- 가장 출현 빈도가 높은 단어를 뽑기 위한 rank() 함수를 정의한다.\n",
    "- 딕셔너리의 value를 기준으로 정렬한 리스트를 생성한 뒤, 슬라이싱을 통해 3개의 요소만 남기고, for문을 통해 정렬 순서대로 단어만 출력하도록 한다.\n",
    "- pickle 모듈을 통해 파일을 읽기 모드로 열어 딕셔너리를 load하고 rank()함수를 불러와 가장 출현빈도가 높은 단어 3가지를 출력한다.\n",
    "***"
   ]
  },
  {
   "cell_type": "markdown",
   "id": "f1899928",
   "metadata": {},
   "source": [
    "> 7. 본인이 생각하기에 상업적인 완성도 높은 검색 로봇/엔진이 되려면 어떤 기능들이 추가적으로 구현되어야 할지 최소 1가지 이상 제시하시오.\n",
    " "
   ]
  },
  {
   "cell_type": "markdown",
   "id": "b3aed3c4",
   "metadata": {},
   "source": [
    "- 영어로 된 문장을 한글로 설명된 링크를 찾고 싶지만 영어로만 검색할 수 있을 때, 영어가 주된 링크가 먼저 뜬다. 이때, 검색어 끝부분에 옵션을 생성하여 검색어에 대한 사이트를 찾고 그 중에서 한글의 빈도수가 높은 링크를 우선순위로 두어서 추천해주면 좋을 것 같다는 생각이 들었다.\n",
    "***"
   ]
  },
  {
   "cell_type": "markdown",
   "id": "494bff9c",
   "metadata": {},
   "source": [
    "#### [느낀점]\n",
    "\n",
    "- Incremental Project 문제를 기간 내에 끝까지 풀어내지 못한 것이 아쉬웠으며, 기간이 끝났지만 그 다음 과제를 위해 이번 과제에서 못한 부분을 채울 것이다.\n",
    "- 회원 가입 알고리즘을 직접 작성하는 과정에서 한번 더 성장한 것 같은 느낌고, 문제를 해결 한 후에 성취감이 들어 기분이 너무 좋았다.\n",
    "- myfact() 함수의 인자값을 늘려가며 어디까지 계산이 가능한지 찾아보는 것도 재미있었다. 생각보다 더 큰 숫자를 관리 하는 것이 놀라웠다.\n",
    "***"
   ]
  }
 ],
 "metadata": {
  "kernelspec": {
   "display_name": "Python 3",
   "language": "python",
   "name": "python3"
  },
  "language_info": {
   "codemirror_mode": {
    "name": "ipython",
    "version": 3
   },
   "file_extension": ".py",
   "mimetype": "text/x-python",
   "name": "python",
   "nbconvert_exporter": "python",
   "pygments_lexer": "ipython3",
   "version": "3.8.8"
  }
 },
 "nbformat": 4,
 "nbformat_minor": 5
}
